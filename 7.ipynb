{
  "nbformat": 4,
  "nbformat_minor": 0,
  "metadata": {
    "colab": {
      "provenance": [],
      "authorship_tag": "ABX9TyNOixpPqQfEDg/nLtIk9h0/",
      "include_colab_link": true
    },
    "kernelspec": {
      "name": "python3",
      "display_name": "Python 3"
    },
    "language_info": {
      "name": "python"
    }
  },
  "cells": [
    {
      "cell_type": "markdown",
      "metadata": {
        "id": "view-in-github",
        "colab_type": "text"
      },
      "source": [
        "<a href=\"https://colab.research.google.com/github/SlinkingAphid29/Jump-to-Python/blob/main/7.ipynb\" target=\"_parent\"><img src=\"https://colab.research.google.com/assets/colab-badge.svg\" alt=\"Open In Colab\"/></a>"
      ]
    },
    {
      "cell_type": "markdown",
      "source": [
        "# **<font color = 'blue'>07</font>** 정규 표현식"
      ],
      "metadata": {
        "id": "UpIJ-8D4rfVx"
      }
    },
    {
      "cell_type": "code",
      "execution_count": 1,
      "metadata": {
        "colab": {
          "base_uri": "https://localhost:8080/",
          "height": 263
        },
        "id": "RNtkpY1IreYZ",
        "outputId": "6f81ad83-dad3-4d90-f880-22ed1350c25c"
      },
      "outputs": [
        {
          "output_type": "error",
          "ename": "AttributeError",
          "evalue": "'int' object has no attribute 'b'",
          "traceback": [
            "\u001b[0;31m---------------------------------------------------------------------------\u001b[0m",
            "\u001b[0;31mAttributeError\u001b[0m                            Traceback (most recent call last)",
            "\u001b[0;32m<ipython-input-1-84da95e7e619>\u001b[0m in \u001b[0;36m<cell line: 3>\u001b[0;34m()\u001b[0m\n\u001b[1;32m      1\u001b[0m \u001b[0ma\u001b[0m\u001b[0;34m=\u001b[0m\u001b[0;36m5\u001b[0m\u001b[0;34m\u001b[0m\u001b[0;34m\u001b[0m\u001b[0m\n\u001b[1;32m      2\u001b[0m \u001b[0mb\u001b[0m\u001b[0;34m=\u001b[0m\u001b[0;36m8\u001b[0m\u001b[0;34m\u001b[0m\u001b[0;34m\u001b[0m\u001b[0m\n\u001b[0;32m----> 3\u001b[0;31m \u001b[0ma\u001b[0m\u001b[0;34m.\u001b[0m\u001b[0mb\u001b[0m\u001b[0;34m\u001b[0m\u001b[0;34m\u001b[0m\u001b[0m\n\u001b[0m",
            "\u001b[0;31mAttributeError\u001b[0m: 'int' object has no attribute 'b'"
          ]
        }
      ],
      "source": [
        "\n",
        "a=5\n",
        "b=8\n",
        "a.b"
      ]
    },
    {
      "cell_type": "code",
      "source": [
        "ca*t"
      ],
      "metadata": {
        "id": "UUgAiyABmYMc",
        "outputId": "fb6c4047-cba4-45f6-8b83-0f3e8b419d1f",
        "colab": {
          "base_uri": "https://localhost:8080/",
          "height": 144
        }
      },
      "execution_count": null,
      "outputs": [
        {
          "output_type": "error",
          "ename": "NameError",
          "evalue": "name 'ca' is not defined",
          "traceback": [
            "\u001b[0;31m---------------------------------------------------------------------------\u001b[0m",
            "\u001b[0;31mNameError\u001b[0m                                 Traceback (most recent call last)",
            "\u001b[0;32m<ipython-input-6-6d09b7ea921c>\u001b[0m in \u001b[0;36m<cell line: 1>\u001b[0;34m()\u001b[0m\n\u001b[0;32m----> 1\u001b[0;31m \u001b[0mca\u001b[0m\u001b[0;34m*\u001b[0m\u001b[0mt\u001b[0m\u001b[0;34m\u001b[0m\u001b[0;34m\u001b[0m\u001b[0m\n\u001b[0m",
            "\u001b[0;31mNameError\u001b[0m: name 'ca' is not defined"
          ]
        }
      ]
    },
    {
      "cell_type": "code",
      "source": [
        "ca+t"
      ],
      "metadata": {
        "id": "XwE_Hme8msC3",
        "outputId": "3ffb1b82-81ba-437d-d02c-67cededed965",
        "colab": {
          "base_uri": "https://localhost:8080/",
          "height": 144
        }
      },
      "execution_count": null,
      "outputs": [
        {
          "output_type": "error",
          "ename": "NameError",
          "evalue": "name 'ca' is not defined",
          "traceback": [
            "\u001b[0;31m---------------------------------------------------------------------------\u001b[0m",
            "\u001b[0;31mNameError\u001b[0m                                 Traceback (most recent call last)",
            "\u001b[0;32m<ipython-input-7-7945ce9bd9ad>\u001b[0m in \u001b[0;36m<cell line: 1>\u001b[0;34m()\u001b[0m\n\u001b[0;32m----> 1\u001b[0;31m \u001b[0mca\u001b[0m\u001b[0;34m+\u001b[0m\u001b[0mt\u001b[0m\u001b[0;34m\u001b[0m\u001b[0;34m\u001b[0m\u001b[0m\n\u001b[0m",
            "\u001b[0;31mNameError\u001b[0m: name 'ca' is not defined"
          ]
        }
      ]
    },
    {
      "cell_type": "code",
      "source": [
        "ca{2}t"
      ],
      "metadata": {
        "id": "fztYxu3nm5wJ",
        "outputId": "1509be32-b236-4d51-f83e-e1508049fac5",
        "colab": {
          "base_uri": "https://localhost:8080/",
          "height": 108
        }
      },
      "execution_count": null,
      "outputs": [
        {
          "output_type": "error",
          "ename": "SyntaxError",
          "evalue": "invalid syntax (<ipython-input-8-68865b49a47c>, line 1)",
          "traceback": [
            "\u001b[0;36m  File \u001b[0;32m\"<ipython-input-8-68865b49a47c>\"\u001b[0;36m, line \u001b[0;32m1\u001b[0m\n\u001b[0;31m    ca{2}t\u001b[0m\n\u001b[0m      ^\u001b[0m\n\u001b[0;31mSyntaxError\u001b[0m\u001b[0;31m:\u001b[0m invalid syntax\n"
          ]
        }
      ]
    },
    {
      "cell_type": "code",
      "source": [
        "ab?c"
      ],
      "metadata": {
        "id": "aveVgJv8m9PR",
        "outputId": "4a0e8445-efa5-4f11-de08-b3812f1d1bad",
        "colab": {
          "base_uri": "https://localhost:8080/",
          "height": 108
        }
      },
      "execution_count": null,
      "outputs": [
        {
          "output_type": "error",
          "ename": "SyntaxError",
          "evalue": "invalid syntax (<ipython-input-11-4597fabd2098>, line 1)",
          "traceback": [
            "\u001b[0;36m  File \u001b[0;32m\"<ipython-input-11-4597fabd2098>\"\u001b[0;36m, line \u001b[0;32m1\u001b[0m\n\u001b[0;31m    ab?c\u001b[0m\n\u001b[0m      ^\u001b[0m\n\u001b[0;31mSyntaxError\u001b[0m\u001b[0;31m:\u001b[0m invalid syntax\n"
          ]
        }
      ]
    },
    {
      "cell_type": "code",
      "source": [
        "import re\n",
        "p = re.compile('ab*')"
      ],
      "metadata": {
        "id": "ULdGwMbenODb"
      },
      "execution_count": null,
      "outputs": []
    },
    {
      "cell_type": "code",
      "source": [
        "m = p.match(\"python\")\n",
        "print(m)"
      ],
      "metadata": {
        "id": "TqloTZ0vnYsx",
        "outputId": "e5550d85-cc2a-46eb-f898-aaff1cf60680",
        "colab": {
          "base_uri": "https://localhost:8080/"
        }
      },
      "execution_count": null,
      "outputs": [
        {
          "output_type": "stream",
          "name": "stdout",
          "text": [
            "None\n"
          ]
        }
      ]
    },
    {
      "cell_type": "code",
      "source": [
        "m  = p.search(\"python\")\n",
        "print(m)"
      ],
      "metadata": {
        "id": "hMxTu0XLqdz4",
        "outputId": "67f3ee3e-c77a-4352-f9cc-6e9457f9928d",
        "colab": {
          "base_uri": "https://localhost:8080/"
        }
      },
      "execution_count": null,
      "outputs": [
        {
          "output_type": "stream",
          "name": "stdout",
          "text": [
            "None\n"
          ]
        }
      ]
    },
    {
      "cell_type": "code",
      "source": [
        "result = p.findall(\"life is too short\")\n",
        "print(result)"
      ],
      "metadata": {
        "id": "Lk_6ui-UqkHX",
        "outputId": "6e8de52d-b758-4c7e-b9c0-f8ac4c078ad5",
        "colab": {
          "base_uri": "https://localhost:8080/"
        }
      },
      "execution_count": null,
      "outputs": [
        {
          "output_type": "stream",
          "name": "stdout",
          "text": [
            "[]\n"
          ]
        }
      ]
    },
    {
      "cell_type": "code",
      "source": [
        "result = p.finditer(\"life is too short\")\n",
        "print(result)\n",
        "\n",
        "for r in result: print(r)"
      ],
      "metadata": {
        "id": "Y2eLG6-Tqv5g",
        "outputId": "ff23e7bd-7978-4009-a75c-f315e1630601",
        "colab": {
          "base_uri": "https://localhost:8080/"
        }
      },
      "execution_count": null,
      "outputs": [
        {
          "output_type": "stream",
          "name": "stdout",
          "text": [
            "<callable_iterator object at 0x79edc078e740>\n"
          ]
        }
      ]
    },
    {
      "cell_type": "code",
      "source": [
        "p = re.compile('a.b', re.DOTALL)\n",
        "m = p.match('a/nb')\n",
        "print(m)"
      ],
      "metadata": {
        "id": "2ANPyHKGrTQ5",
        "outputId": "41bcc839-b858-4cf7-ce87-a95ef055e2c8",
        "colab": {
          "base_uri": "https://localhost:8080/"
        }
      },
      "execution_count": null,
      "outputs": [
        {
          "output_type": "stream",
          "name": "stdout",
          "text": [
            "None\n"
          ]
        }
      ]
    },
    {
      "cell_type": "code",
      "source": [
        "import re\n",
        "p = re.compile(\"^python/s/w+\", re.MULTILINE)\n",
        "\n",
        "data = \"\"\"python one\n",
        "life is too short\n",
        "python two\n",
        "you need python\n",
        "python three\"\"\"\n",
        "\n",
        "print(p.findall(data))"
      ],
      "metadata": {
        "id": "kPJW67UkrpoS",
        "outputId": "652a6b83-e10f-441a-aa7c-3dc01bc90bbd",
        "colab": {
          "base_uri": "https://localhost:8080/"
        }
      },
      "execution_count": null,
      "outputs": [
        {
          "output_type": "stream",
          "name": "stdout",
          "text": [
            "[]\n"
          ]
        }
      ]
    },
    {
      "cell_type": "code",
      "source": [
        "p = re.compile(r'//section')"
      ],
      "metadata": {
        "id": "J0XyySYWsL8W"
      },
      "execution_count": null,
      "outputs": []
    },
    {
      "cell_type": "code",
      "source": [
        "p = re.compile('Crow|Servo')\n",
        "m = p,match('CrowHello')\n",
        "print(m)"
      ],
      "metadata": {
        "id": "WW2GRpXpslsh",
        "outputId": "fa538d6b-09d5-461e-aa34-aa392249dc41",
        "colab": {
          "base_uri": "https://localhost:8080/",
          "height": 180
        }
      },
      "execution_count": null,
      "outputs": [
        {
          "output_type": "error",
          "ename": "NameError",
          "evalue": "name 'match' is not defined",
          "traceback": [
            "\u001b[0;31m---------------------------------------------------------------------------\u001b[0m",
            "\u001b[0;31mNameError\u001b[0m                                 Traceback (most recent call last)",
            "\u001b[0;32m<ipython-input-21-301ec4d7d186>\u001b[0m in \u001b[0;36m<cell line: 2>\u001b[0;34m()\u001b[0m\n\u001b[1;32m      1\u001b[0m \u001b[0mp\u001b[0m \u001b[0;34m=\u001b[0m \u001b[0mre\u001b[0m\u001b[0;34m.\u001b[0m\u001b[0mcompile\u001b[0m\u001b[0;34m(\u001b[0m\u001b[0;34m'Crow|Servo'\u001b[0m\u001b[0;34m)\u001b[0m\u001b[0;34m\u001b[0m\u001b[0;34m\u001b[0m\u001b[0m\n\u001b[0;32m----> 2\u001b[0;31m \u001b[0mm\u001b[0m \u001b[0;34m=\u001b[0m \u001b[0mp\u001b[0m\u001b[0;34m,\u001b[0m\u001b[0mmatch\u001b[0m\u001b[0;34m(\u001b[0m\u001b[0;34m'CrowHello'\u001b[0m\u001b[0;34m)\u001b[0m\u001b[0;34m\u001b[0m\u001b[0;34m\u001b[0m\u001b[0m\n\u001b[0m\u001b[1;32m      3\u001b[0m \u001b[0mprint\u001b[0m\u001b[0;34m(\u001b[0m\u001b[0mm\u001b[0m\u001b[0;34m)\u001b[0m\u001b[0;34m\u001b[0m\u001b[0;34m\u001b[0m\u001b[0m\n",
            "\u001b[0;31mNameError\u001b[0m: name 'match' is not defined"
          ]
        }
      ]
    },
    {
      "cell_type": "code",
      "source": [
        "print(re.search('^Life', 'Life is too short'))\n",
        "\n",
        "print(re.search('^Life', 'My Life'))"
      ],
      "metadata": {
        "id": "0i7imMnqs3er",
        "outputId": "32051889-e2d7-4a74-be99-eac7bcd717b0",
        "colab": {
          "base_uri": "https://localhost:8080/"
        }
      },
      "execution_count": null,
      "outputs": [
        {
          "output_type": "stream",
          "name": "stdout",
          "text": [
            "<re.Match object; span=(0, 4), match='Life'>\n",
            "None\n"
          ]
        }
      ]
    },
    {
      "cell_type": "code",
      "source": [
        "print(re.search('short$', 'Life is too short'))\n",
        "\n",
        "print(re.search('short$', 'Life is too short, you need python'))"
      ],
      "metadata": {
        "id": "6p_E88c9thGC",
        "outputId": "6764b9cb-2ad9-4d8d-a7da-bd1ad0cd9ac2",
        "colab": {
          "base_uri": "https://localhost:8080/"
        }
      },
      "execution_count": null,
      "outputs": [
        {
          "output_type": "stream",
          "name": "stdout",
          "text": [
            "<re.Match object; span=(12, 17), match='short'>\n",
            "None\n"
          ]
        }
      ]
    },
    {
      "cell_type": "code",
      "source": [
        "p = re.compile(r'/Bclass/B')\n",
        "print(p.search('no class at all'))\n",
        "\n",
        "print(p.search('the seclassified algorithm'))\n",
        "\n",
        "print(p.search('one subclass is'))"
      ],
      "metadata": {
        "id": "HLfK6GYHtzeM",
        "outputId": "7c0cefae-155a-4fea-952f-dd5e41a8dee7",
        "colab": {
          "base_uri": "https://localhost:8080/"
        }
      },
      "execution_count": null,
      "outputs": [
        {
          "output_type": "stream",
          "name": "stdout",
          "text": [
            "None\n",
            "None\n",
            "None\n"
          ]
        }
      ]
    },
    {
      "cell_type": "code",
      "source": [
        "(ABC)+"
      ],
      "metadata": {
        "id": "tDtkqYRuuXBO",
        "outputId": "88c8fcf2-a0ff-45f9-d663-07e8742c27e6",
        "colab": {
          "base_uri": "https://localhost:8080/",
          "height": 108
        }
      },
      "execution_count": null,
      "outputs": [
        {
          "output_type": "error",
          "ename": "SyntaxError",
          "evalue": "invalid syntax (<ipython-input-26-1d58fe048f9f>, line 1)",
          "traceback": [
            "\u001b[0;36m  File \u001b[0;32m\"<ipython-input-26-1d58fe048f9f>\"\u001b[0;36m, line \u001b[0;32m1\u001b[0m\n\u001b[0;31m    (ABC)+\u001b[0m\n\u001b[0m          ^\u001b[0m\n\u001b[0;31mSyntaxError\u001b[0m\u001b[0;31m:\u001b[0m invalid syntax\n"
          ]
        }
      ]
    },
    {
      "cell_type": "code",
      "source": [
        "p = re.compile('(ABC)+')\n",
        "m = p.search('ABCABCABC OK?')\n",
        "print(m)\n",
        "\n",
        "print(m.group(0))"
      ],
      "metadata": {
        "id": "IDN8HGqxudFm",
        "outputId": "a89ad71b-75b8-405b-9e13-71c2b7cc589a",
        "colab": {
          "base_uri": "https://localhost:8080/"
        }
      },
      "execution_count": null,
      "outputs": [
        {
          "output_type": "stream",
          "name": "stdout",
          "text": [
            "<re.Match object; span=(0, 9), match='ABCABCABC'>\n",
            "ABCABCABC\n"
          ]
        }
      ]
    },
    {
      "cell_type": "code",
      "source": [
        "p = re.compile(r'(/b/w+)/s+/1')\n",
        "p.search('Paris in the the spring').group()"
      ],
      "metadata": {
        "id": "dIArfRfZuvZS",
        "outputId": "8e4bda5d-9095-4ff6-f1ef-5e7fe8f313e8",
        "colab": {
          "base_uri": "https://localhost:8080/",
          "height": 162
        }
      },
      "execution_count": null,
      "outputs": [
        {
          "output_type": "error",
          "ename": "AttributeError",
          "evalue": "'NoneType' object has no attribute 'group'",
          "traceback": [
            "\u001b[0;31m---------------------------------------------------------------------------\u001b[0m",
            "\u001b[0;31mAttributeError\u001b[0m                            Traceback (most recent call last)",
            "\u001b[0;32m<ipython-input-28-645fe222e4bb>\u001b[0m in \u001b[0;36m<cell line: 2>\u001b[0;34m()\u001b[0m\n\u001b[1;32m      1\u001b[0m \u001b[0mp\u001b[0m \u001b[0;34m=\u001b[0m \u001b[0mre\u001b[0m\u001b[0;34m.\u001b[0m\u001b[0mcompile\u001b[0m\u001b[0;34m(\u001b[0m\u001b[0;34mr'(/b/w+)/s+/1'\u001b[0m\u001b[0;34m)\u001b[0m\u001b[0;34m\u001b[0m\u001b[0;34m\u001b[0m\u001b[0m\n\u001b[0;32m----> 2\u001b[0;31m \u001b[0mp\u001b[0m\u001b[0;34m.\u001b[0m\u001b[0msearch\u001b[0m\u001b[0;34m(\u001b[0m\u001b[0;34m'Paris in the the spring'\u001b[0m\u001b[0;34m)\u001b[0m\u001b[0;34m.\u001b[0m\u001b[0mgroup\u001b[0m\u001b[0;34m(\u001b[0m\u001b[0;34m)\u001b[0m\u001b[0;34m\u001b[0m\u001b[0;34m\u001b[0m\u001b[0m\n\u001b[0m",
            "\u001b[0;31mAttributeError\u001b[0m: 'NoneType' object has no attribute 'group'"
          ]
        }
      ]
    },
    {
      "cell_type": "code",
      "source": [
        "(?P<name>/w+)/s+((/d+)[-]/d+[-]/d+)"
      ],
      "metadata": {
        "id": "dqJseKx-vGYg",
        "outputId": "5fa245d3-fd85-46e6-8b69-d6f631b273ec",
        "colab": {
          "base_uri": "https://localhost:8080/",
          "height": 108
        }
      },
      "execution_count": null,
      "outputs": [
        {
          "output_type": "error",
          "ename": "SyntaxError",
          "evalue": "invalid syntax (<ipython-input-29-4b61715012bd>, line 1)",
          "traceback": [
            "\u001b[0;36m  File \u001b[0;32m\"<ipython-input-29-4b61715012bd>\"\u001b[0;36m, line \u001b[0;32m1\u001b[0m\n\u001b[0;31m    (?P<name>/w+)/s+((/d+)[-]/d+[-]/d+)\u001b[0m\n\u001b[0m     ^\u001b[0m\n\u001b[0;31mSyntaxError\u001b[0m\u001b[0;31m:\u001b[0m invalid syntax\n"
          ]
        }
      ]
    },
    {
      "cell_type": "code",
      "source": [
        "p = re.compile(\".+:\")\n",
        "m = p.search(\"http://google.com\")\n",
        "print(m.group())"
      ],
      "metadata": {
        "id": "JhB4mAzbvbI-",
        "outputId": "5cad27a3-07a7-41b3-ebfb-4f4c27475092",
        "colab": {
          "base_uri": "https://localhost:8080/"
        }
      },
      "execution_count": null,
      "outputs": [
        {
          "output_type": "stream",
          "name": "stdout",
          "text": [
            "http:\n"
          ]
        }
      ]
    },
    {
      "cell_type": "code",
      "source": [
        "p = re.compile(\".+(?=:)\")\n",
        "m = p.search(\"http://google.com\")\n",
        "print(m.group())"
      ],
      "metadata": {
        "id": "YUabdBgjvrg5",
        "outputId": "1435b89c-6a4e-42a1-9695-ac852085a792",
        "colab": {
          "base_uri": "https://localhost:8080/"
        }
      },
      "execution_count": null,
      "outputs": [
        {
          "output_type": "stream",
          "name": "stdout",
          "text": [
            "http\n"
          ]
        }
      ]
    },
    {
      "cell_type": "code",
      "source": [
        ".*[.]([^b].?.?|.[^a]?.?|..?[^t]?)$"
      ],
      "metadata": {
        "id": "cvPy0sb1v7Ka",
        "outputId": "4e08385b-33c0-4ae1-ff95-48b00b752f22",
        "colab": {
          "base_uri": "https://localhost:8080/",
          "height": 108
        }
      },
      "execution_count": null,
      "outputs": [
        {
          "output_type": "error",
          "ename": "SyntaxError",
          "evalue": "invalid syntax (<ipython-input-32-2d9cddf42417>, line 1)",
          "traceback": [
            "\u001b[0;36m  File \u001b[0;32m\"<ipython-input-32-2d9cddf42417>\"\u001b[0;36m, line \u001b[0;32m1\u001b[0m\n\u001b[0;31m    .*[.]([^b].?.?|.[^a]?.?|..?[^t]?)$\u001b[0m\n\u001b[0m    ^\u001b[0m\n\u001b[0;31mSyntaxError\u001b[0m\u001b[0;31m:\u001b[0m invalid syntax\n"
          ]
        }
      ]
    },
    {
      "cell_type": "code",
      "source": [
        ".*[.](?!bat$|exe$).*$"
      ],
      "metadata": {
        "id": "uRq1UyMUwJpa",
        "outputId": "e3412380-4d68-46ba-de30-4545b93129f3",
        "colab": {
          "base_uri": "https://localhost:8080/",
          "height": 108
        }
      },
      "execution_count": null,
      "outputs": [
        {
          "output_type": "error",
          "ename": "SyntaxError",
          "evalue": "invalid syntax (<ipython-input-34-f04782fd817c>, line 1)",
          "traceback": [
            "\u001b[0;36m  File \u001b[0;32m\"<ipython-input-34-f04782fd817c>\"\u001b[0;36m, line \u001b[0;32m1\u001b[0m\n\u001b[0;31m    .*[.](?!bat$|exe$).*$\u001b[0m\n\u001b[0m    ^\u001b[0m\n\u001b[0;31mSyntaxError\u001b[0m\u001b[0;31m:\u001b[0m invalid syntax\n"
          ]
        }
      ]
    },
    {
      "cell_type": "code",
      "source": [
        "p = re.compile('(blue|white|red)')\n",
        "p.sub('colour', 'blue socks and red shoes')"
      ],
      "metadata": {
        "id": "k7wZnnyaweMp",
        "outputId": "259af4fe-0b56-4434-f78e-d4d4881f2a71",
        "colab": {
          "base_uri": "https://localhost:8080/",
          "height": 35
        }
      },
      "execution_count": null,
      "outputs": [
        {
          "output_type": "execute_result",
          "data": {
            "text/plain": [
              "'colour socks and colour shoes'"
            ],
            "application/vnd.google.colaboratory.intrinsic+json": {
              "type": "string"
            }
          },
          "metadata": {},
          "execution_count": 35
        }
      ]
    },
    {
      "cell_type": "code",
      "source": [
        "p = re.compile(r\"(?P<name>/w+)/s+(?P<phone>(/d+)[-]/d+[-]/d+)\")\n",
        "print(p.sub(\"/g<2> /g<1>\", \"park 010-1234-1234\"))"
      ],
      "metadata": {
        "id": "6uXx5jG6wu88",
        "outputId": "39d69b44-9d8b-41ed-8403-712fcdf231a8",
        "colab": {
          "base_uri": "https://localhost:8080/"
        }
      },
      "execution_count": null,
      "outputs": [
        {
          "output_type": "stream",
          "name": "stdout",
          "text": [
            "park 010-1234-1234\n"
          ]
        }
      ]
    },
    {
      "cell_type": "code",
      "source": [
        "def hexrepl(match):\n",
        "  \"Return the hex string for a decimal number\"\n",
        "  value = int(match.group())\n",
        "  return hex(value)\n",
        "\n",
        "p = re.compile(r'/d+')\n",
        "p.sub(hexrepl, 'Call 65490 for printing, 49152 for user code.')"
      ],
      "metadata": {
        "id": "_r-WNZb0xQVz",
        "outputId": "eecce63e-9a3e-4725-fc52-b914785d7edb",
        "colab": {
          "base_uri": "https://localhost:8080/",
          "height": 35
        }
      },
      "execution_count": null,
      "outputs": [
        {
          "output_type": "execute_result",
          "data": {
            "text/plain": [
              "'Call 65490 for printing, 49152 for user code.'"
            ],
            "application/vnd.google.colaboratory.intrinsic+json": {
              "type": "string"
            }
          },
          "metadata": {},
          "execution_count": 37
        }
      ]
    },
    {
      "cell_type": "code",
      "source": [
        "s = '<html><head><title>Title</title>'\n",
        "len(s)\n",
        "\n",
        "print(re.match('<.*>', s).span())\n",
        "\n",
        "print(re.match('<.*>', s).group())"
      ],
      "metadata": {
        "id": "VVHu2Om0x_zF",
        "outputId": "c430efc8-3fd3-4b47-eefe-8343dab56b5f",
        "colab": {
          "base_uri": "https://localhost:8080/"
        }
      },
      "execution_count": null,
      "outputs": [
        {
          "output_type": "stream",
          "name": "stdout",
          "text": [
            "(0, 32)\n",
            "<html><head><title>Title</title>\n"
          ]
        }
      ]
    },
    {
      "cell_type": "code",
      "source": [
        "print(re.match('<.*?>', s).group())"
      ],
      "metadata": {
        "id": "_KMRlkDcyhTb",
        "outputId": "5b6e4c8f-294a-439f-ce24-fe2fccf0454e",
        "colab": {
          "base_uri": "https://localhost:8080/"
        }
      },
      "execution_count": null,
      "outputs": [
        {
          "output_type": "stream",
          "name": "stdout",
          "text": [
            "<html>\n"
          ]
        }
      ]
    }
  ]
}