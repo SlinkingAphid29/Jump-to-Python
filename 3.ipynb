{
  "nbformat": 4,
  "nbformat_minor": 0,
  "metadata": {
    "colab": {
      "provenance": [],
      "authorship_tag": "ABX9TyOc7+LmnYnd/MLRO0iK2DvA",
      "include_colab_link": true
    },
    "kernelspec": {
      "name": "python3",
      "display_name": "Python 3"
    },
    "language_info": {
      "name": "python"
    }
  },
  "cells": [
    {
      "cell_type": "markdown",
      "metadata": {
        "id": "view-in-github",
        "colab_type": "text"
      },
      "source": [
        "<a href=\"https://colab.research.google.com/github/SlinkingAphid29/Jump-to-Python/blob/main/3.ipynb\" target=\"_parent\"><img src=\"https://colab.research.google.com/assets/colab-badge.svg\" alt=\"Open In Colab\"/></a>"
      ]
    },
    {
      "cell_type": "markdown",
      "source": [
        "# **<font color = 'blue'>03</font>** 프로그램의 구조를 쌓는다! 제어문"
      ],
      "metadata": {
        "id": "qnWGbEnUj2TE"
      }
    },
    {
      "cell_type": "code",
      "source": [
        "money = true\n",
        "if money:\n",
        "  print(\"택시를 타고 가라\")\n",
        "else:\n",
        "  print(\"걸어가라\")"
      ],
      "metadata": {
        "id": "nd7wASIQj-nz"
      },
      "execution_count": null,
      "outputs": []
    }
  ]
}