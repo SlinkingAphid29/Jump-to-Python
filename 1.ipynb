{
  "nbformat": 4,
  "nbformat_minor": 0,
  "metadata": {
    "colab": {
      "provenance": [],
      "authorship_tag": "ABX9TyNzYgOJaWJn+0B/Y3IPn5Ph",
      "include_colab_link": true
    },
    "kernelspec": {
      "name": "python3",
      "display_name": "Python 3"
    },
    "language_info": {
      "name": "python"
    }
  },
  "cells": [
    {
      "cell_type": "markdown",
      "metadata": {
        "id": "view-in-github",
        "colab_type": "text"
      },
      "source": [
        "<a href=\"https://colab.research.google.com/github/SlinkingAphid29/Jump-to-Python/blob/main/1.ipynb\" target=\"_parent\"><img src=\"https://colab.research.google.com/assets/colab-badge.svg\" alt=\"Open In Colab\"/></a>"
      ]
    },
    {
      "cell_type": "code",
      "execution_count": 3,
      "metadata": {
        "colab": {
          "base_uri": "https://localhost:8080/"
        },
        "id": "I6ky_9VHJgW6",
        "outputId": "b5d7a9d4-0abe-4f6b-d914-386cc94f6f6f"
      },
      "outputs": [
        {
          "output_type": "stream",
          "name": "stdout",
          "text": [
            "4가 있습니다\n"
          ]
        }
      ],
      "source": [
        "if 4 in [1,2,3,4]: print(\"4가 있습니다\")"
      ]
    },
    {
      "cell_type": "code",
      "source": [
        "# simple.py\n",
        "languages = ['python', 'perl', 'c', 'java']\n",
        "\n",
        "for lang in languages:\n",
        "  if lang in ['python', 'perl']:\n",
        "    print(\"%6s need interpreter\" % lang)\n",
        "  elif lang in ['c', 'java']:\n",
        "    print(\"%6s need compiler\" % lang)\n",
        "  else:\n",
        "    print(\"should not reach here\")"
      ],
      "metadata": {
        "colab": {
          "base_uri": "https://localhost:8080/"
        },
        "id": "Tzp4GsNXJ0a9",
        "outputId": "d151e6d1-3c79-42c9-bcde-17082d894765"
      },
      "execution_count": 4,
      "outputs": [
        {
          "output_type": "stream",
          "name": "stdout",
          "text": [
            "python need interpreter\n",
            "  perl need interpreter\n",
            "     c need compiler\n",
            "  java need compiler\n"
          ]
        }
      ]
    }
  ]
}